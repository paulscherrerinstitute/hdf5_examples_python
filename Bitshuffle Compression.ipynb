{
 "cells": [
  {
   "cell_type": "code",
   "execution_count": 1,
   "metadata": {
    "collapsed": true
   },
   "outputs": [],
   "source": [
    "# Example bitshuffle compression"
   ]
  },
  {
   "cell_type": "code",
   "execution_count": 2,
   "metadata": {
    "collapsed": true
   },
   "outputs": [],
   "source": [
    "# Create random data\n",
    "import numpy\n",
    "array = numpy.random.rand(100, 100)\n",
    "array = array.astype('float32')"
   ]
  },
  {
   "cell_type": "code",
   "execution_count": 3,
   "metadata": {
    "collapsed": false
   },
   "outputs": [
    {
     "data": {
      "text/plain": [
       "array([[ 0.35555062,  0.72370034,  0.56636184, ...,  0.13906424,\n",
       "         0.41080284,  0.66199255],\n",
       "       [ 0.60582209,  0.37987518,  0.18578379, ...,  0.84882295,\n",
       "         0.54763156,  0.54685247],\n",
       "       [ 0.33031824,  0.52922076,  0.23738767, ...,  0.66041476,\n",
       "         0.10677683,  0.63404685],\n",
       "       ..., \n",
       "       [ 0.26236001,  0.42673022,  0.67775303, ...,  0.8188948 ,\n",
       "         0.32254988,  0.61050385],\n",
       "       [ 0.4466939 ,  0.12097479,  0.96123821, ...,  0.3269417 ,\n",
       "         0.66937703,  0.11849337],\n",
       "       [ 0.88062376,  0.06722216,  0.96908993, ...,  0.51209027,\n",
       "         0.64907885,  0.62801409]], dtype=float32)"
      ]
     },
     "execution_count": 3,
     "metadata": {},
     "output_type": "execute_result"
    }
   ],
   "source": [
    "array"
   ]
  },
  {
   "cell_type": "code",
   "execution_count": 4,
   "metadata": {
    "collapsed": false
   },
   "outputs": [
    {
     "data": {
      "text/plain": [
       "40000"
      ]
     },
     "execution_count": 4,
     "metadata": {},
     "output_type": "execute_result"
    }
   ],
   "source": [
    "array.nbytes"
   ]
  },
  {
   "cell_type": "code",
   "execution_count": 5,
   "metadata": {
    "collapsed": false
   },
   "outputs": [],
   "source": [
    "import bitshuffle"
   ]
  },
  {
   "cell_type": "code",
   "execution_count": 6,
   "metadata": {
    "collapsed": false
   },
   "outputs": [],
   "source": [
    "# Use bitshuffle lz4 compression method (does shuffling itselve)\n",
    "compressed_d = bitshuffle.compress_lz4(array)"
   ]
  },
  {
   "cell_type": "code",
   "execution_count": 7,
   "metadata": {
    "collapsed": false
   },
   "outputs": [
    {
     "data": {
      "text/plain": [
       "33152"
      ]
     },
     "execution_count": 7,
     "metadata": {},
     "output_type": "execute_result"
    }
   ],
   "source": [
    "compressed_d.nbytes"
   ]
  },
  {
   "cell_type": "code",
   "execution_count": 8,
   "metadata": {
    "collapsed": false
   },
   "outputs": [
    {
     "data": {
      "text/plain": [
       "array([  0,   0,  26, 127, 245, 255, 255, 255, 255, 255, 255, 255, 255,\n",
       "       255, 255, 255, 255, 255, 255, 255, 255, 255, 255, 255, 255, 255,\n",
       "       255, 255, 255, 255, 255], dtype=uint8)"
      ]
     },
     "execution_count": 8,
     "metadata": {},
     "output_type": "execute_result"
    }
   ],
   "source": [
    "# Display the first 30 characters of the compressed bytes\n",
    "compressed_d[:31]"
   ]
  },
  {
   "cell_type": "code",
   "execution_count": 9,
   "metadata": {
    "collapsed": false
   },
   "outputs": [],
   "source": [
    "array_uncompressed = bitshuffle.decompress_lz4(compressed_d, (100,100), numpy.dtype('float32'))"
   ]
  },
  {
   "cell_type": "code",
   "execution_count": 10,
   "metadata": {
    "collapsed": false
   },
   "outputs": [
    {
     "data": {
      "text/plain": [
       "array([[ 0.35555062,  0.72370034,  0.56636184, ...,  0.13906424,\n",
       "         0.41080284,  0.66199255],\n",
       "       [ 0.60582209,  0.37987518,  0.18578379, ...,  0.84882295,\n",
       "         0.54763156,  0.54685247],\n",
       "       [ 0.33031824,  0.52922076,  0.23738767, ...,  0.66041476,\n",
       "         0.10677683,  0.63404685],\n",
       "       ..., \n",
       "       [ 0.26236001,  0.42673022,  0.67775303, ...,  0.8188948 ,\n",
       "         0.32254988,  0.61050385],\n",
       "       [ 0.4466939 ,  0.12097479,  0.96123821, ...,  0.3269417 ,\n",
       "         0.66937703,  0.11849337],\n",
       "       [ 0.88062376,  0.06722216,  0.96908993, ...,  0.51209027,\n",
       "         0.64907885,  0.62801409]], dtype=float32)"
      ]
     },
     "execution_count": 10,
     "metadata": {},
     "output_type": "execute_result"
    }
   ],
   "source": [
    "array_uncompressed"
   ]
  },
  {
   "cell_type": "code",
   "execution_count": 11,
   "metadata": {
    "collapsed": false
   },
   "outputs": [
    {
     "name": "stdout",
     "output_type": "stream",
     "text": [
      "same\n"
     ]
    }
   ],
   "source": [
    "if (array == array_uncompressed).all():\n",
    "    print('same')"
   ]
  },
  {
   "cell_type": "code",
   "execution_count": null,
   "metadata": {
    "collapsed": true
   },
   "outputs": [],
   "source": []
  }
 ],
 "metadata": {
  "kernelspec": {
   "display_name": "Python [Root]",
   "language": "python",
   "name": "Python [Root]"
  },
  "language_info": {
   "codemirror_mode": {
    "name": "ipython",
    "version": 3
   },
   "file_extension": ".py",
   "mimetype": "text/x-python",
   "name": "python",
   "nbconvert_exporter": "python",
   "pygments_lexer": "ipython3",
   "version": "3.5.2"
  }
 },
 "nbformat": 4,
 "nbformat_minor": 0
}
