{
 "cells": [
  {
   "cell_type": "markdown",
   "metadata": {
    "collapsed": true
   },
   "source": [
    "# Direct chunk write with bitshuffle compression"
   ]
  },
  {
   "cell_type": "code",
   "execution_count": 1,
   "metadata": {
    "collapsed": false
   },
   "outputs": [
    {
     "data": {
      "text/plain": [
       "'little'"
      ]
     },
     "execution_count": 1,
     "metadata": {},
     "output_type": "execute_result"
    }
   ],
   "source": [
    "# Determine byteorder of current system\n",
    "import sys\n",
    "sys.byteorder"
   ]
  },
  {
   "cell_type": "code",
   "execution_count": 2,
   "metadata": {
    "collapsed": true
   },
   "outputs": [],
   "source": [
    "import h5py\n",
    "import numpy\n",
    "import struct\n",
    "import bitshuffle\n",
    "import bitshuffle.h5"
   ]
  },
  {
   "cell_type": "code",
   "execution_count": 3,
   "metadata": {
    "collapsed": false
   },
   "outputs": [],
   "source": [
    "filename = 'test_direct_chunk_write_bitshuffle.hdf5'\n",
    "filehandle = h5py.File(filename, \"w\")"
   ]
  },
  {
   "cell_type": "code",
   "execution_count": 4,
   "metadata": {
    "collapsed": false
   },
   "outputs": [],
   "source": [
    "block_size = 2048\n",
    "dataset = filehandle.create_dataset(\"data\", (100, 100, 100), maxshape=(None, 100, 100), compression=bitshuffle.h5.H5FILTER, compression_opts=(block_size, bitshuffle.h5.H5_COMPRESS_LZ4), chunks=(1,100,100), dtype='float32')"
   ]
  },
  {
   "cell_type": "code",
   "execution_count": 5,
   "metadata": {
    "collapsed": true
   },
   "outputs": [],
   "source": [
    "# Create random numbers\n",
    "array = numpy.random.rand(100, 100)\n",
    "array = array.astype('float32')"
   ]
  },
  {
   "cell_type": "code",
   "execution_count": 6,
   "metadata": {
    "collapsed": false
   },
   "outputs": [
    {
     "data": {
      "text/plain": [
       "array([[  2.87754506e-01,   8.95269871e-01,   4.05164272e-01, ...,\n",
       "          7.55991876e-01,   4.78493497e-02,   8.96251351e-02],\n",
       "       [  2.65910923e-01,   1.51550084e-01,   3.39855462e-01, ...,\n",
       "          2.76492964e-02,   9.72803414e-01,   5.45942962e-01],\n",
       "       [  7.68216312e-01,   6.48744822e-01,   5.93377292e-01, ...,\n",
       "          3.20077204e-04,   8.72908056e-01,   2.40250707e-01],\n",
       "       ..., \n",
       "       [  5.97783029e-01,   3.39329571e-01,   3.03336948e-01, ...,\n",
       "          7.56952286e-01,   6.26245618e-01,   7.05749273e-01],\n",
       "       [  4.73752826e-01,   9.83646631e-01,   6.89552069e-01, ...,\n",
       "          8.75296354e-01,   4.58672673e-01,   4.17434067e-01],\n",
       "       [  3.51259738e-01,   8.57367933e-01,   7.73854613e-01, ...,\n",
       "          1.37655526e-01,   4.24313545e-01,   4.63528596e-02]], dtype=float32)"
      ]
     },
     "execution_count": 6,
     "metadata": {},
     "output_type": "execute_result"
    }
   ],
   "source": [
    "array"
   ]
  },
  {
   "cell_type": "code",
   "execution_count": 7,
   "metadata": {
    "collapsed": true
   },
   "outputs": [],
   "source": [
    "# Generic function to create bitshuffle compressed chunk\n",
    "def compress_as_chunk(array, block_size=2048):\n",
    "    compressed_bytes = bitshuffle.compress_lz4(array, block_size)\n",
    "    bytes_number_of_elements = struct.pack('>q', (array.shape[0]*array.shape[1]*array.dtype.itemsize))\n",
    "    bytes_block_size = struct.pack('>i', block_size*array.dtype.itemsize)\n",
    "    all_bytes = bytes_number_of_elements + bytes_block_size + compressed_bytes.tobytes()\n",
    "    return all_bytes"
   ]
  },
  {
   "cell_type": "code",
   "execution_count": 8,
   "metadata": {
    "collapsed": true
   },
   "outputs": [],
   "source": [
    "compressed = compress_as_chunk(array, block_size=block_size)"
   ]
  },
  {
   "cell_type": "code",
   "execution_count": 9,
   "metadata": {
    "collapsed": false
   },
   "outputs": [
    {
     "name": "stdout",
     "output_type": "stream",
     "text": [
      "40000\n",
      "33215\n"
     ]
    }
   ],
   "source": [
    "# Actual size data\n",
    "print(array.nbytes)\n",
    "# Compressed size\n",
    "print(len(compressed))"
   ]
  },
  {
   "cell_type": "code",
   "execution_count": 10,
   "metadata": {
    "collapsed": false
   },
   "outputs": [],
   "source": [
    "# Direct chunk write\n",
    "index = 0\n",
    "dataset.id.write_direct_chunk((index, 0, 0), compressed)"
   ]
  },
  {
   "cell_type": "code",
   "execution_count": 11,
   "metadata": {
    "collapsed": false
   },
   "outputs": [
    {
     "data": {
      "text/plain": [
       "array([[ 0.,  0.,  0., ...,  0.,  0.,  0.],\n",
       "       [ 0.,  0.,  0., ...,  0.,  0.,  0.],\n",
       "       [ 0.,  0.,  0., ...,  0.,  0.,  0.],\n",
       "       ..., \n",
       "       [ 0.,  0.,  0., ...,  0.,  0.,  0.],\n",
       "       [ 0.,  0.,  0., ...,  0.,  0.,  0.],\n",
       "       [ 0.,  0.,  0., ...,  0.,  0.,  0.]], dtype=float32)"
      ]
     },
     "execution_count": 11,
     "metadata": {},
     "output_type": "execute_result"
    }
   ],
   "source": [
    "dataset[0]"
   ]
  },
  {
   "cell_type": "code",
   "execution_count": 12,
   "metadata": {
    "collapsed": true
   },
   "outputs": [],
   "source": [
    "filehandle.close()"
   ]
  },
  {
   "cell_type": "code",
   "execution_count": 13,
   "metadata": {
    "collapsed": true
   },
   "outputs": [],
   "source": [
    "filehandle = h5py.File(filename, \"r\")"
   ]
  },
  {
   "cell_type": "code",
   "execution_count": 14,
   "metadata": {
    "collapsed": false
   },
   "outputs": [
    {
     "data": {
      "text/plain": [
       "array([[  2.87754506e-01,   8.95269871e-01,   4.05164272e-01, ...,\n",
       "          7.55991876e-01,   4.78493497e-02,   8.96251351e-02],\n",
       "       [  2.65910923e-01,   1.51550084e-01,   3.39855462e-01, ...,\n",
       "          2.76492964e-02,   9.72803414e-01,   5.45942962e-01],\n",
       "       [  7.68216312e-01,   6.48744822e-01,   5.93377292e-01, ...,\n",
       "          3.20077204e-04,   8.72908056e-01,   2.40250707e-01],\n",
       "       ..., \n",
       "       [  5.97783029e-01,   3.39329571e-01,   3.03336948e-01, ...,\n",
       "          7.56952286e-01,   6.26245618e-01,   7.05749273e-01],\n",
       "       [  4.73752826e-01,   9.83646631e-01,   6.89552069e-01, ...,\n",
       "          8.75296354e-01,   4.58672673e-01,   4.17434067e-01],\n",
       "       [  3.51259738e-01,   8.57367933e-01,   7.73854613e-01, ...,\n",
       "          1.37655526e-01,   4.24313545e-01,   4.63528596e-02]], dtype=float32)"
      ]
     },
     "execution_count": 14,
     "metadata": {},
     "output_type": "execute_result"
    }
   ],
   "source": [
    "filehandle['data'][0]"
   ]
  },
  {
   "cell_type": "code",
   "execution_count": 15,
   "metadata": {
    "collapsed": false
   },
   "outputs": [
    {
     "data": {
      "text/plain": [
       "(100, 100)"
      ]
     },
     "execution_count": 15,
     "metadata": {},
     "output_type": "execute_result"
    }
   ],
   "source": [
    "filehandle['data'][0].shape"
   ]
  },
  {
   "cell_type": "code",
   "execution_count": 16,
   "metadata": {
    "collapsed": false
   },
   "outputs": [
    {
     "data": {
      "text/plain": [
       "{'32008': (0, 2, 4, 2048, 2)}"
      ]
     },
     "execution_count": 16,
     "metadata": {},
     "output_type": "execute_result"
    }
   ],
   "source": [
    "filehandle['data']._filters"
   ]
  },
  {
   "cell_type": "code",
   "execution_count": 17,
   "metadata": {
    "collapsed": false
   },
   "outputs": [
    {
     "data": {
      "text/plain": [
       "False"
      ]
     },
     "execution_count": 17,
     "metadata": {},
     "output_type": "execute_result"
    }
   ],
   "source": [
    "filehandle['data'].shuffle"
   ]
  },
  {
   "cell_type": "code",
   "execution_count": 18,
   "metadata": {
    "collapsed": false
   },
   "outputs": [
    {
     "name": "stdout",
     "output_type": "stream",
     "text": [
      "same\n"
     ]
    }
   ],
   "source": [
    "# Checking for sameness\n",
    "if (array == filehandle['data'][0]).all():\n",
    "    print('same')"
   ]
  },
  {
   "cell_type": "code",
   "execution_count": 19,
   "metadata": {
    "collapsed": true
   },
   "outputs": [],
   "source": [
    "filehandle.close()"
   ]
  },
  {
   "cell_type": "code",
   "execution_count": null,
   "metadata": {
    "collapsed": true
   },
   "outputs": [],
   "source": []
  }
 ],
 "metadata": {
  "anaconda-cloud": {},
  "kernelspec": {
   "display_name": "Python [Root]",
   "language": "python",
   "name": "Python [Root]"
  },
  "language_info": {
   "codemirror_mode": {
    "name": "ipython",
    "version": 3
   },
   "file_extension": ".py",
   "mimetype": "text/x-python",
   "name": "python",
   "nbconvert_exporter": "python",
   "pygments_lexer": "ipython3",
   "version": "3.5.2"
  }
 },
 "nbformat": 4,
 "nbformat_minor": 0
}
