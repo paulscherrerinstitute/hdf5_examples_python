{
 "cells": [
  {
   "cell_type": "markdown",
   "metadata": {
    "collapsed": true
   },
   "source": [
    "# Simple direct chunk write"
   ]
  },
  {
   "cell_type": "code",
   "execution_count": 1,
   "metadata": {
    "collapsed": true
   },
   "outputs": [],
   "source": [
    "import h5py\n",
    "import numpy"
   ]
  },
  {
   "cell_type": "code",
   "execution_count": 2,
   "metadata": {
    "collapsed": false
   },
   "outputs": [],
   "source": [
    "filename = \"test_direct_chunk_write.hdf5\"\n",
    "filehandle = h5py.File(filename, \"w\")"
   ]
  },
  {
   "cell_type": "code",
   "execution_count": 3,
   "metadata": {
    "collapsed": false
   },
   "outputs": [],
   "source": [
    "dataset = filehandle.create_dataset(\"data\", (100, 100, 100), maxshape=(None, 100, 100), chunks=(1,100,100), dtype='float32')"
   ]
  },
  {
   "cell_type": "code",
   "execution_count": 4,
   "metadata": {
    "collapsed": false
   },
   "outputs": [],
   "source": [
    "array = numpy.random.rand(100, 100)\n",
    "array = array.astype('float32')"
   ]
  },
  {
   "cell_type": "code",
   "execution_count": 5,
   "metadata": {
    "collapsed": false
   },
   "outputs": [
    {
     "data": {
      "text/plain": [
       "array([[ 0.43470463,  0.91931921,  0.95955473, ...,  0.04316058,\n",
       "         0.89442378,  0.8886199 ],\n",
       "       [ 0.69513589,  0.16089617,  0.49597403, ...,  0.70610487,\n",
       "         0.89237285,  0.12920372],\n",
       "       [ 0.96914262,  0.02483979,  0.89165074, ...,  0.20154211,\n",
       "         0.10625901,  0.08401911],\n",
       "       ..., \n",
       "       [ 0.08059023,  0.14494771,  0.6120857 , ...,  0.47727132,\n",
       "         0.5210517 ,  0.80569118],\n",
       "       [ 0.85813099,  0.60863936,  0.90519196, ...,  0.16949967,\n",
       "         0.82091773,  0.10137654],\n",
       "       [ 0.8964538 ,  0.43340129,  0.24802384, ...,  0.30881295,\n",
       "         0.2869752 ,  0.35428736]], dtype=float32)"
      ]
     },
     "execution_count": 5,
     "metadata": {},
     "output_type": "execute_result"
    }
   ],
   "source": [
    "array"
   ]
  },
  {
   "cell_type": "code",
   "execution_count": 6,
   "metadata": {
    "collapsed": false
   },
   "outputs": [
    {
     "data": {
      "text/plain": [
       "{}"
      ]
     },
     "execution_count": 6,
     "metadata": {},
     "output_type": "execute_result"
    }
   ],
   "source": [
    "dataset._filters"
   ]
  },
  {
   "cell_type": "code",
   "execution_count": 7,
   "metadata": {
    "collapsed": false
   },
   "outputs": [],
   "source": [
    "# Direct chunk write\n",
    "index = 0\n",
    "dataset.id.write_direct_chunk((index, 0, 0), array.tobytes(), filter_mask=1)"
   ]
  },
  {
   "cell_type": "code",
   "execution_count": 8,
   "metadata": {
    "collapsed": false
   },
   "outputs": [
    {
     "data": {
      "text/plain": [
       "array([[ 0.,  0.,  0., ...,  0.,  0.,  0.],\n",
       "       [ 0.,  0.,  0., ...,  0.,  0.,  0.],\n",
       "       [ 0.,  0.,  0., ...,  0.,  0.,  0.],\n",
       "       ..., \n",
       "       [ 0.,  0.,  0., ...,  0.,  0.,  0.],\n",
       "       [ 0.,  0.,  0., ...,  0.,  0.,  0.],\n",
       "       [ 0.,  0.,  0., ...,  0.,  0.,  0.]], dtype=float32)"
      ]
     },
     "execution_count": 8,
     "metadata": {},
     "output_type": "execute_result"
    }
   ],
   "source": [
    "dataset[0]"
   ]
  },
  {
   "cell_type": "code",
   "execution_count": 9,
   "metadata": {
    "collapsed": true
   },
   "outputs": [],
   "source": [
    "# File need to be closed to have the changes been visible\n",
    "filehandle.close()"
   ]
  },
  {
   "cell_type": "code",
   "execution_count": 10,
   "metadata": {
    "collapsed": true
   },
   "outputs": [],
   "source": [
    "filehandle = h5py.File(filename, \"r\")"
   ]
  },
  {
   "cell_type": "code",
   "execution_count": 11,
   "metadata": {
    "collapsed": false
   },
   "outputs": [
    {
     "data": {
      "text/plain": [
       "array([[ 0.43470463,  0.91931921,  0.95955473, ...,  0.04316058,\n",
       "         0.89442378,  0.8886199 ],\n",
       "       [ 0.69513589,  0.16089617,  0.49597403, ...,  0.70610487,\n",
       "         0.89237285,  0.12920372],\n",
       "       [ 0.96914262,  0.02483979,  0.89165074, ...,  0.20154211,\n",
       "         0.10625901,  0.08401911],\n",
       "       ..., \n",
       "       [ 0.08059023,  0.14494771,  0.6120857 , ...,  0.47727132,\n",
       "         0.5210517 ,  0.80569118],\n",
       "       [ 0.85813099,  0.60863936,  0.90519196, ...,  0.16949967,\n",
       "         0.82091773,  0.10137654],\n",
       "       [ 0.8964538 ,  0.43340129,  0.24802384, ...,  0.30881295,\n",
       "         0.2869752 ,  0.35428736]], dtype=float32)"
      ]
     },
     "execution_count": 11,
     "metadata": {},
     "output_type": "execute_result"
    }
   ],
   "source": [
    "filehandle['data'][0]"
   ]
  },
  {
   "cell_type": "code",
   "execution_count": 12,
   "metadata": {
    "collapsed": false
   },
   "outputs": [
    {
     "data": {
      "text/plain": [
       "{}"
      ]
     },
     "execution_count": 12,
     "metadata": {},
     "output_type": "execute_result"
    }
   ],
   "source": [
    "filehandle['data']._filters"
   ]
  },
  {
   "cell_type": "code",
   "execution_count": 13,
   "metadata": {
    "collapsed": false
   },
   "outputs": [
    {
     "data": {
      "text/plain": [
       "(100, 100)"
      ]
     },
     "execution_count": 13,
     "metadata": {},
     "output_type": "execute_result"
    }
   ],
   "source": [
    "filehandle['data'][0].shape"
   ]
  },
  {
   "cell_type": "code",
   "execution_count": 14,
   "metadata": {
    "collapsed": false
   },
   "outputs": [
    {
     "name": "stdout",
     "output_type": "stream",
     "text": [
      "same\n"
     ]
    }
   ],
   "source": [
    "# Checking for sameness\n",
    "if (array == filehandle['data'][0]).all():\n",
    "    print('same')"
   ]
  },
  {
   "cell_type": "code",
   "execution_count": null,
   "metadata": {
    "collapsed": true
   },
   "outputs": [],
   "source": []
  }
 ],
 "metadata": {
  "kernelspec": {
   "display_name": "Python [Root]",
   "language": "python",
   "name": "Python [Root]"
  },
  "language_info": {
   "codemirror_mode": {
    "name": "ipython",
    "version": 3
   },
   "file_extension": ".py",
   "mimetype": "text/x-python",
   "name": "python",
   "nbconvert_exporter": "python",
   "pygments_lexer": "ipython3",
   "version": "3.5.2"
  }
 },
 "nbformat": 4,
 "nbformat_minor": 0
}
