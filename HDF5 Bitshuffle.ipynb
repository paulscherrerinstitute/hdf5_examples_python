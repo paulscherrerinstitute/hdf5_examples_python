{
 "cells": [
  {
   "cell_type": "markdown",
   "metadata": {
    "collapsed": true
   },
   "source": [
    "# Use bitshuffle compression with h5py "
   ]
  },
  {
   "cell_type": "code",
   "execution_count": 1,
   "metadata": {
    "collapsed": false
   },
   "outputs": [
    {
     "data": {
      "text/plain": [
       "'little'"
      ]
     },
     "execution_count": 1,
     "metadata": {},
     "output_type": "execute_result"
    }
   ],
   "source": [
    "import sys\n",
    "sys.byteorder"
   ]
  },
  {
   "cell_type": "code",
   "execution_count": 2,
   "metadata": {
    "collapsed": false
   },
   "outputs": [
    {
     "name": "stdout",
     "output_type": "stream",
     "text": [
      "2.7.0\n"
     ]
    }
   ],
   "source": [
    "import h5py\n",
    "import numpy\n",
    "# Need to activate bitshuffle HDF5 Plugin\n",
    "import bitshuffle.h5\n",
    "\n",
    "# Print h5py version\n",
    "print(h5py.__version__) # '2.X.Y'\n",
    "\n",
    "filename = 'test_bitshuffle.hdf5'\n",
    "filehandle = h5py.File(filename, \"w\")"
   ]
  },
  {
   "cell_type": "code",
   "execution_count": 3,
   "metadata": {
    "collapsed": false
   },
   "outputs": [],
   "source": [
    "## dataset = filehandle.create_dataset(\"data\", (100, 100, 100), maxshape=(None, 100, 100), chunks=(1,100,100))\n",
    "block_size = 2048\n",
    "dataset = filehandle.create_dataset(\"data\", (100, 100, 100), maxshape=(None, 100, 100), compression=bitshuffle.h5.H5FILTER, compression_opts=(block_size, bitshuffle.h5.H5_COMPRESS_LZ4), chunks=(1,100,100), dtype='float32')\n",
    "# The compression id can also be specified as such: compression=bitshuffle.h5.H5FILTER"
   ]
  },
  {
   "cell_type": "code",
   "execution_count": 4,
   "metadata": {
    "collapsed": true
   },
   "outputs": [],
   "source": [
    "# Create random numbers\n",
    "array = numpy.random.rand(100, 100)\n",
    "array = array.astype('float32')"
   ]
  },
  {
   "cell_type": "code",
   "execution_count": 5,
   "metadata": {
    "collapsed": false
   },
   "outputs": [
    {
     "data": {
      "text/plain": [
       "array([[ 0.76599908,  0.08087604,  0.89015293, ...,  0.71580678,\n",
       "         0.50043029,  0.00294846],\n",
       "       [ 0.59136188,  0.28044301,  0.78091282, ...,  0.65266222,\n",
       "         0.77106023,  0.40423301],\n",
       "       [ 0.14480616,  0.85435981,  0.4379763 , ...,  0.45012942,\n",
       "         0.10004418,  0.83703011],\n",
       "       ..., \n",
       "       [ 0.76340526,  0.88050568,  0.49160603, ...,  0.20831208,\n",
       "         0.82347405,  0.34274569],\n",
       "       [ 0.5938369 ,  0.6565693 ,  0.04654337, ...,  0.21290956,\n",
       "         0.94102037,  0.41774505],\n",
       "       [ 0.20256165,  0.05428438,  0.15758543, ...,  0.79733545,\n",
       "         0.16817223,  0.42660627]], dtype=float32)"
      ]
     },
     "execution_count": 5,
     "metadata": {},
     "output_type": "execute_result"
    }
   ],
   "source": [
    "array"
   ]
  },
  {
   "cell_type": "code",
   "execution_count": 6,
   "metadata": {
    "collapsed": false
   },
   "outputs": [],
   "source": [
    "dataset[0]=array"
   ]
  },
  {
   "cell_type": "code",
   "execution_count": 7,
   "metadata": {
    "collapsed": false
   },
   "outputs": [
    {
     "data": {
      "text/plain": [
       "array([[ 0.76599908,  0.08087604,  0.89015293, ...,  0.71580678,\n",
       "         0.50043029,  0.00294846],\n",
       "       [ 0.59136188,  0.28044301,  0.78091282, ...,  0.65266222,\n",
       "         0.77106023,  0.40423301],\n",
       "       [ 0.14480616,  0.85435981,  0.4379763 , ...,  0.45012942,\n",
       "         0.10004418,  0.83703011],\n",
       "       ..., \n",
       "       [ 0.76340526,  0.88050568,  0.49160603, ...,  0.20831208,\n",
       "         0.82347405,  0.34274569],\n",
       "       [ 0.5938369 ,  0.6565693 ,  0.04654337, ...,  0.21290956,\n",
       "         0.94102037,  0.41774505],\n",
       "       [ 0.20256165,  0.05428438,  0.15758543, ...,  0.79733545,\n",
       "         0.16817223,  0.42660627]], dtype=float32)"
      ]
     },
     "execution_count": 7,
     "metadata": {},
     "output_type": "execute_result"
    }
   ],
   "source": [
    "dataset[0]"
   ]
  },
  {
   "cell_type": "code",
   "execution_count": 8,
   "metadata": {
    "collapsed": true
   },
   "outputs": [],
   "source": [
    "filehandle.close()"
   ]
  },
  {
   "cell_type": "code",
   "execution_count": 9,
   "metadata": {
    "collapsed": true
   },
   "outputs": [],
   "source": [
    "filehandle = h5py.File(filename, \"r\")"
   ]
  },
  {
   "cell_type": "code",
   "execution_count": 10,
   "metadata": {
    "collapsed": false
   },
   "outputs": [
    {
     "data": {
      "text/plain": [
       "array([[ 0.76599908,  0.08087604,  0.89015293, ...,  0.71580678,\n",
       "         0.50043029,  0.00294846],\n",
       "       [ 0.59136188,  0.28044301,  0.78091282, ...,  0.65266222,\n",
       "         0.77106023,  0.40423301],\n",
       "       [ 0.14480616,  0.85435981,  0.4379763 , ...,  0.45012942,\n",
       "         0.10004418,  0.83703011],\n",
       "       ..., \n",
       "       [ 0.76340526,  0.88050568,  0.49160603, ...,  0.20831208,\n",
       "         0.82347405,  0.34274569],\n",
       "       [ 0.5938369 ,  0.6565693 ,  0.04654337, ...,  0.21290956,\n",
       "         0.94102037,  0.41774505],\n",
       "       [ 0.20256165,  0.05428438,  0.15758543, ...,  0.79733545,\n",
       "         0.16817223,  0.42660627]], dtype=float32)"
      ]
     },
     "execution_count": 10,
     "metadata": {},
     "output_type": "execute_result"
    }
   ],
   "source": [
    "filehandle['data'][0]"
   ]
  },
  {
   "cell_type": "code",
   "execution_count": 11,
   "metadata": {
    "collapsed": false
   },
   "outputs": [
    {
     "data": {
      "text/plain": [
       "(100, 100)"
      ]
     },
     "execution_count": 11,
     "metadata": {},
     "output_type": "execute_result"
    }
   ],
   "source": [
    "filehandle['data'][0].shape"
   ]
  },
  {
   "cell_type": "code",
   "execution_count": 12,
   "metadata": {
    "collapsed": false
   },
   "outputs": [
    {
     "data": {
      "text/plain": [
       "{'32008': (0, 2, 4, 2048, 2)}"
      ]
     },
     "execution_count": 12,
     "metadata": {},
     "output_type": "execute_result"
    }
   ],
   "source": [
    "filehandle['data']._filters"
   ]
  },
  {
   "cell_type": "code",
   "execution_count": 13,
   "metadata": {
    "collapsed": false
   },
   "outputs": [
    {
     "data": {
      "text/plain": [
       "False"
      ]
     },
     "execution_count": 13,
     "metadata": {},
     "output_type": "execute_result"
    }
   ],
   "source": [
    "filehandle['data'].shuffle"
   ]
  },
  {
   "cell_type": "code",
   "execution_count": 14,
   "metadata": {
    "collapsed": false
   },
   "outputs": [
    {
     "name": "stdout",
     "output_type": "stream",
     "text": [
      "same\n"
     ]
    }
   ],
   "source": [
    "# Checking for sameness\n",
    "if (array == filehandle['data'][0]).all():\n",
    "    print('same')"
   ]
  },
  {
   "cell_type": "code",
   "execution_count": null,
   "metadata": {
    "collapsed": true
   },
   "outputs": [],
   "source": []
  }
 ],
 "metadata": {
  "kernelspec": {
   "display_name": "Python [Root]",
   "language": "python",
   "name": "Python [Root]"
  },
  "language_info": {
   "codemirror_mode": {
    "name": "ipython",
    "version": 3
   },
   "file_extension": ".py",
   "mimetype": "text/x-python",
   "name": "python",
   "nbconvert_exporter": "python",
   "pygments_lexer": "ipython3",
   "version": "3.5.2"
  }
 },
 "nbformat": 4,
 "nbformat_minor": 0
}
