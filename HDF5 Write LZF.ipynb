{
 "cells": [
  {
   "cell_type": "code",
   "execution_count": 3,
   "metadata": {
    "collapsed": false
   },
   "outputs": [
    {
     "name": "stdout",
     "output_type": "stream",
     "text": [
      "resizing\n",
      "resizing\n",
      "resizing\n",
      "resizing\n",
      "resizing\n",
      "resizing\n",
      "resizing\n",
      "resizing\n",
      "----\n",
      "850\n"
     ]
    }
   ],
   "source": [
    "import h5py\n",
    "import numpy\n",
    "\n",
    "filehandle = h5py.File(\"test_write_lzf.hdf5\", \"w\")\n",
    "\n",
    "# http://docs.h5py.org/en/latest/high/dataset.html\n",
    "# maxshape=(None, 10) # resizeable dataset\n",
    "\n",
    "\n",
    "dataset = filehandle.create_dataset(\"data\", (100, 100, 100), compression=\"lzf\", shuffle=True, maxshape=(None, 100, 100))\n",
    "# dataset = filehandle.create_dataset(\"data\", (100, 100, 100), maxshape=(None, 100, 100))\n",
    "\n",
    "\n",
    "count = 0\n",
    "for index in range(0, 850):\n",
    "    # print(index)\n",
    "    if index+1 > dataset.shape[0]:\n",
    "        dataset.resize(count + 100, axis=0)\n",
    "        print('resizing')\n",
    "    dataset[index] = numpy.random.rand(100, 100)  # expensive = flushing to disk!\n",
    "    count += 1\n",
    "\n",
    "# Shrink dataset if\n",
    "dataset.resize(count, axis=0)\n",
    "\n",
    "print('----')\n",
    "print(dataset.shape[0])\n",
    "\n",
    "filehandle.close()"
   ]
  },
  {
   "cell_type": "code",
   "execution_count": null,
   "metadata": {
    "collapsed": true
   },
   "outputs": [],
   "source": []
  }
 ],
 "metadata": {
  "kernelspec": {
   "display_name": "Python 3",
   "language": "python",
   "name": "python3"
  },
  "language_info": {
   "codemirror_mode": {
    "name": "ipython",
    "version": 3
   },
   "file_extension": ".py",
   "mimetype": "text/x-python",
   "name": "python",
   "nbconvert_exporter": "python",
   "pygments_lexer": "ipython3",
   "version": "3.5.2"
  }
 },
 "nbformat": 4,
 "nbformat_minor": 0
}
